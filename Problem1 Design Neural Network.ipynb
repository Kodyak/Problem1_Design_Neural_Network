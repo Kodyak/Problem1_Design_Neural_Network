{
 "cells": [
  {
   "cell_type": "markdown",
   "metadata": {},
   "source": [
    "# Problem 1: Design a Neural Network with Flexible Layer Input"
   ]
  },
  {
   "cell_type": "markdown",
   "metadata": {},
   "source": [
    "# §0 Defining NN layer initialization, forwardprop, backprop, stochastic gradient descent, etc\n",
    "\n",
    "I start by importing the data and defining all the relevant methods for training the neural network. To skip this and go to the final training process and results, please skip to [§1](# §1 Constructing NN with [9,3,1] Structure for the Restaurant Domain Prediction)."
   ]
  },
  {
   "cell_type": "markdown",
   "metadata": {},
   "source": [
    "### Loading Data"
   ]
  },
  {
   "cell_type": "code",
   "execution_count": 25,
   "metadata": {
    "code_folding": [
     7
    ]
   },
   "outputs": [
    {
     "name": "stdout",
     "output_type": "stream",
     "text": [
      "X_train shape: (12, 9) \n",
      "number of training examples: 12, number of features: 9\n",
      "Y_train shape: (12, 1) \n",
      "number of training labels: 12\n",
      "first 5 inputs:\n",
      "[[1 0 0 1 2 0 1 0 0]\n",
      " [1 0 0 2 0 0 0 1 2]\n",
      " [0 1 0 1 0 0 0 2 0]\n",
      " [1 0 1 2 0 1 0 1 1]\n",
      " [1 0 1 2 2 0 1 0 3]]\n",
      "first 5 labels:\n",
      "[[1]\n",
      " [0]\n",
      " [1]\n",
      " [1]\n",
      " [0]]\n"
     ]
    }
   ],
   "source": [
    "import pandas as pd\n",
    "import numpy as np\n",
    "import math\n",
    "import random\n",
    "\n",
    "# DATA\n",
    "\n",
    "def load(): \n",
    "    \"\"\"\n",
    "    10 features with 12 observations\n",
    "    hard coded from problem statement\n",
    "    loaded in with features as rows, then transformed with features as columns\n",
    "    target is last column\n",
    "    \"\"\"\n",
    "\n",
    "    ### LOAD DATA\n",
    "    Alt = [ \"YES\", \"YES\", \"NO\", \"YES\", \"YES\", \"NO\", \"NO\", \"NO\", \"NO\", \"YES\", \"NO\", \"YES\" ]\n",
    "    Bar = [\"NO\", \"NO\", \"YES\", \"NO\", \"NO\", \"YES\", \"YES\", \"NO\", \"YES\", \"YES\", \"NO\", \"YES\"]\n",
    "    Fri = [\"NO\", \"NO\", \"NO\", \"YES\", \"YES\", \"NO\", \"NO\", \"NO\", \"YES\", \"YES\", \"NO\", \"YES\"]\n",
    "    # Hun = [] # excluded per problem statement\n",
    "    Pat = [\"Some\", \"Full\", \"Some\", \"Full\", \"Full\", \"Some\", \"None\", \"Some\", \"Full\", \"Full\", \"None\", \"Full\",]\n",
    "    Price = [\"$$$\",\"$\",\"$\",\"$\",\"$$$\",\"$$\",\"$\",\"$$\",\"$\",\"$$$\",\"$\",\"$\"]\n",
    "    Rain = [\"NO\", \"NO\", \"NO\", \"YES\", \"NO\", \"YES\", \"YES\", \"YES\", \"YES\", \"NO\", \"NO\", \"NO\"]\n",
    "    Res = [\"YES\", \"NO\", \"NO\", \"NO\", \"YES\", \"YES\", \"NO\", \"YES\", \"NO\", \"YES\", \"NO\", \"NO\"]\n",
    "    Type = [\"French\", \"Thai\", \"Burger\", \"Thai\", \"French\", \"Italian\", \"Burger\", \"Thai\", \"Burger\", \"Italian\", \"Thai\", \"Burger\"]\n",
    "    Est = [\"0-10\", \"30-60\", \"0-10\" , \"10-30\", \">60\", \"0-10\", \"0-10\", \"0-10\", \">60\", \"10-30\", \"0-10\", \"30-60\"]\n",
    "    # target\n",
    "    Target = [\"Y\",\"N\",\"Y\",\"Y\",\"N\",\"Y\",\"N\",\"Y\",\"N\",'N',\"N\",\"Y\"] #WillWait\n",
    "\n",
    "    Vars = [Alt, Bar, Fri, Pat, Price, Rain, Res, Type, Est, Target]\n",
    "\n",
    "\n",
    "    ### ENCODER DICTIONARY\n",
    "    encoder_dict = {\"NO\":0, \n",
    "                         \"YES\":1,\n",
    "                         \"N\":0, \n",
    "                         \"Y\":1,\n",
    "                         \"None\":0, \n",
    "                         \"Some\":1, \n",
    "                         \"Full\":2, \n",
    "                         \"$\":0, \n",
    "                         \"$$\":1, \n",
    "                         \"$$$\":2, \n",
    "                         \"French\":0, \n",
    "                         \"Thai\":1, \n",
    "                         \"Burger\":2, \n",
    "                         \"Italian\":3, \n",
    "                         \"0-10\":0, \n",
    "                         \"10-30\":1, \n",
    "                         \"30-60\":2, \n",
    "                         \">60\":3}\n",
    "    \n",
    "\n",
    "    ### TRANSFORM DATA [ENCODE]\n",
    "    transformed_vars = []\n",
    "    for Var in Vars:\n",
    "        transformed_vars.append([encoder_dict[x] for x in Var])\n",
    "\n",
    "    X = np.array([x for x in transformed_vars[:-1]]) # don't include target\n",
    "    #print(X.shape) # features loaded in rows\n",
    "\n",
    "#     df = pd.DataFrame(X.T) # cols are features\n",
    "#     print(\"%s observations consisting of %s features, including target\" % (df.shape))\n",
    "    \n",
    "    return X.T , np.array([[t] for t in transformed_vars[-1]]) # written this way to get certain shape in labels\n",
    "\n",
    "X , Y = load()\n",
    "print(\"X_train shape:\", X.shape, \"\\nnumber of training examples: %s, number of features: %s\" % X.shape)\n",
    "print(\"Y_train shape:\", Y.shape, \"\\nnumber of training labels: %s\" % Y.shape[0])\n",
    "\n",
    "\n",
    "k=5\n",
    "print(\"first %s inputs:\" % k)\n",
    "print(X[0:k])\n",
    "print(\"first %s labels:\" % k)\n",
    "print(Y[0:k])\n",
    "# if using pandas\n",
    "# print(X.head())\n",
    "# print(pd.DataFrame(Y).head())"
   ]
  },
  {
   "cell_type": "code",
   "execution_count": 26,
   "metadata": {},
   "outputs": [
    {
     "data": {
      "text/plain": [
       "(0.7310585786300049, 1)"
      ]
     },
     "execution_count": 26,
     "metadata": {},
     "output_type": "execute_result"
    }
   ],
   "source": [
    "def sigmoid(x):\n",
    "    \n",
    "    return 1/(1 + np.exp(-x))\n",
    "\n",
    "def relu(x): # may not end up using relu for this problem\n",
    "    \n",
    "    return max(x,0)\n",
    "\n",
    "sigmoid(1), relu(1)"
   ]
  },
  {
   "cell_type": "markdown",
   "metadata": {},
   "source": [
    "### Initializing Weights"
   ]
  },
  {
   "cell_type": "code",
   "execution_count": 27,
   "metadata": {},
   "outputs": [
    {
     "data": {
      "text/plain": [
       "{'W0': array([[ 0.09834683,  0.42110763,  0.95788953,  0.53316528,  0.69187711,\n",
       "          0.31551563,  0.68650093,  0.83462567,  0.01828828],\n",
       "        [ 0.75014431,  0.98886109,  0.74816565,  0.28044399,  0.78927933,\n",
       "          0.10322601,  0.44789353,  0.9085955 ,  0.29361415],\n",
       "        [ 0.28777534,  0.13002857,  0.01936696,  0.67883553,  0.21162812,\n",
       "          0.26554666,  0.49157316,  0.05336255,  0.57411761]]),\n",
       " 'W1': array([[ 0.14672857,  0.58930554,  0.69975836]]),\n",
       " 'b0': array([[ 0.],\n",
       "        [ 0.],\n",
       "        [ 0.]]),\n",
       " 'b1': array([[ 0.]])}"
      ]
     },
     "execution_count": 27,
     "metadata": {},
     "output_type": "execute_result"
    }
   ],
   "source": [
    "def initialize(layers):\n",
    "    \"\"\"\n",
    "    initializes all weights and biases in NN to (small) random noise.\n",
    "    not optimized -– e.g. (He-initialization)\n",
    "    \"\"\"\n",
    "    parameters = {}\n",
    "    for i in range(len(layers)-1): # for each layer\n",
    "        parameters[\"W\"+str(i)] = np.random.random(size = (layers[i+1], layers[i]))\n",
    "        parameters[\"b\"+str(i)] = np.zeros(shape = (layers[i+1],1))\n",
    "\n",
    "\n",
    "#         for j in range(layers[i]): \n",
    "#             cache[\"W\"+str(i)+str(j)] = random.rand()\n",
    "#             cache[\"b\"+str(i)+str(j)] = random.rand()\n",
    "        \n",
    "    return parameters \n",
    "\n",
    "# example\n",
    "layers = [9,3,1]\n",
    "parameters = initialize(layers)\n",
    "parameters"
   ]
  },
  {
   "cell_type": "markdown",
   "metadata": {},
   "source": [
    "### Forward Pass"
   ]
  },
  {
   "cell_type": "code",
   "execution_count": 28,
   "metadata": {},
   "outputs": [
    {
     "name": "stdout",
     "output_type": "stream",
     "text": [
      "input shape (9, 1)\n",
      "linear output shape (Wx and b): (3, 1) (3, 1)\n",
      "linear output shape:  (3, 1)\n"
     ]
    },
    {
     "data": {
      "text/plain": [
       "array([[ 0.99999999],\n",
       "       [ 0.99999999],\n",
       "       [ 0.99999543]])"
      ]
     },
     "execution_count": 28,
     "metadata": {},
     "output_type": "execute_result"
    }
   ],
   "source": [
    "def linear_forward(x,W,b):\n",
    "    \"\"\"\n",
    "    input numpy array with shape (current_layer size, 1)\n",
    "        aka feed in a row of data - so need to transpose it to match W dimensions\n",
    "    W, b = weights / biases from current layer. shapes:\n",
    "        (next_layer size ,current_layer size), (next_layer,1) \n",
    "        respectively\n",
    "        \n",
    "    return linear activation Wx + b\n",
    "    \"\"\"\n",
    "    Z = np.dot(W,x) + b \n",
    "    cache = (x, W, b)\n",
    "    \n",
    "    assert(Z.shape == (W.shape[0], x.shape[1]))\n",
    "    return Z , cache\n",
    "\n",
    "def activation(x,act_fn='sigmoid'):\n",
    "    \"\"\"\n",
    "    applies an activation function to layer output\n",
    "    default is sigmoid activation\n",
    "    \"\"\"\n",
    "    cache = x\n",
    "    if act_fn == 'sigmoid':\n",
    "        return sigmoid(x) , cache\n",
    "    if act_fn == 'relu':\n",
    "        return relu(x), cache\n",
    "    else:\n",
    "        return \"ERROR: no such activation function\"\n",
    "\n",
    "\n",
    "# example\n",
    "\n",
    "x = np.array(range(layers[0]))\n",
    "x = np.reshape(a=x, newshape=(x.shape[0],1))\n",
    "print(\"input shape\", x.shape)\n",
    "\n",
    "W , b = parameters[\"W0\"], parameters[\"b0\"]\n",
    "print(\"linear output shape (Wx and b):\", (np.dot(W,x)).shape, b.shape )\n",
    "\n",
    "x_temp , _ = linear_forward(x,W,b)\n",
    "print(\"linear output shape: \", x_temp.shape)\n",
    "\n",
    "layer_output, _ = activation(x_temp)\n",
    "layer_output"
   ]
  },
  {
   "cell_type": "code",
   "execution_count": 29,
   "metadata": {},
   "outputs": [
    {
     "name": "stdout",
     "output_type": "stream",
     "text": [
      "input\n",
      "[[1 1 0 1 1 0 0 0 0 1 0 1]\n",
      " [0 0 1 0 0 1 1 0 1 1 0 1]\n",
      " [0 0 0 1 1 0 0 0 1 1 0 1]\n",
      " [1 2 1 2 2 1 0 1 2 2 0 2]\n",
      " [2 0 0 0 2 1 0 1 0 2 0 0]\n",
      " [0 0 0 1 0 1 1 1 1 0 0 0]\n",
      " [1 0 0 0 1 1 0 1 0 1 0 0]\n",
      " [0 1 2 1 0 3 2 1 2 3 1 2]\n",
      " [0 2 0 1 3 0 0 0 3 1 0 2]] \n",
      "\n",
      "linear output shape: (3, 12) \n",
      "should be (output hidden layer size = 3, number of data rows fed in = 12) \n",
      "\n",
      "[[ 0.93713085  0.88451304  0.9323603   0.96411864  0.98590426  0.99424574\n",
      "   0.91727418  0.95528431  0.98884842  0.99920478  0.69733211  0.98592947]\n",
      " [ 0.95508551  0.94304519  0.95633227  0.96658078  0.99308067  0.99520555\n",
      "   0.94830319  0.92617996  0.99393522  0.9996947   0.71271267  0.99573262]\n",
      " [ 0.86777647  0.94516569  0.71414252  0.92809846  0.98663941  0.87409921\n",
      "   0.62299976  0.84565825  0.97344675  0.969048    0.51333747  0.95477399]] \n",
      "\n",
      "linear output shape: (1, 12) \n",
      "should be (output hidden layer size = 1, number of data rows fed in = 12) \n",
      "\n",
      "[[ 0.78710707  0.79362443  0.76854311  0.79584417  0.80538504  0.79315068\n",
      "   0.75572445  0.7820626   0.80408142  0.80437043  0.70714047  0.80211499]]\n"
     ]
    }
   ],
   "source": [
    "### Data Test\n",
    "k=X.shape[0]\n",
    "print(\"input\")\n",
    "print(X[0:k].T,\"\\n\")\n",
    "x = X[0:k].T\n",
    "\n",
    "W , b = parameters[\"W0\"], parameters[\"b0\"]\n",
    "x_temp , _ = linear_forward(x,W,b)\n",
    "print(\"linear output shape: %r \\nshould be (output hidden layer size = %s, number of data rows fed in = %s) \\n\" % (x_temp.shape,layers[1],k))\n",
    "A_1, _ = activation(x_temp)\n",
    "print(A_1,'\\n')\n",
    "\n",
    "\n",
    "W , b = parameters[\"W1\"], parameters[\"b1\"]\n",
    "A_2_temp , _ = linear_forward(A_1,W,b)\n",
    "print(\"linear output shape: %r \\nshould be (output hidden layer size = %s, number of data rows fed in = %s) \\n\" % (A_2_temp.shape,layers[2],k))\n",
    "A_2, _ = activation(A_2_temp)\n",
    "print(A_2)"
   ]
  },
  {
   "cell_type": "code",
   "execution_count": 30,
   "metadata": {
    "code_folding": []
   },
   "outputs": [
    {
     "name": "stdout",
     "output_type": "stream",
     "text": [
      "example: single layer forward pass:\n",
      " [[ 0.99999999]\n",
      " [ 0.99999999]\n",
      " [ 0.99999543]]\n",
      "single complete forward pass 0.8770109040651177\n"
     ]
    }
   ],
   "source": [
    "def layer_forward(x,W,b,act_fn=\"sigmoid\"):\n",
    "    Z, linear_cache = linear_forward(x,W,b)\n",
    "    output, activation_cache = activation(Z,act_fn)\n",
    "    assert (output.shape == (W.shape[0], x.shape[1]))\n",
    "    return output, (linear_cache, activation_cache)\n",
    "\n",
    "# example\n",
    "x = np.array([ [i] for i in range(layers[0])])\n",
    "W , b = parameters[\"W\"+str(0)], parameters[\"b\"+str(0)]\n",
    "layer_out , _ = layer_forward(x,W,b)\n",
    "print('example: single layer forward pass:\\n', layer_out)\n",
    "\n",
    "def forward_pass(X,parameters):\n",
    "    \"\"\"\n",
    "    computes a single forward pass of input: x through the layers\n",
    "    \"\"\"\n",
    "    \n",
    "    caches = []\n",
    "    out_ = X\n",
    "    \n",
    "    L = len(parameters)//2\n",
    "    \n",
    "    for i in range(L):\n",
    "        W , b = parameters[\"W\"+str(i)], parameters[\"b\"+str(i)]\n",
    "        out_ , cache = layer_forward(out_,W,b)\n",
    "        caches.append(cache)\n",
    "        \n",
    "    assert(out_.shape == (1,X.shape[1]))\n",
    "    return out_ , caches\n",
    "\n",
    "# example\n",
    "layers = [9,3,1]\n",
    "parameters = initialize(layers)\n",
    "# x = np.array([ [i] for i in range(layers[0])])\n",
    "x = X[0:1].T\n",
    "out, caches = forward_pass(x,parameters)\n",
    "print('single complete forward pass', out.squeeze())"
   ]
  },
  {
   "cell_type": "code",
   "execution_count": 31,
   "metadata": {},
   "outputs": [
    {
     "data": {
      "text/plain": [
       "array([[ 0.83703121,  0.83464343,  0.822288  ,  0.84301197,  0.84930895,\n",
       "         0.84828999,  0.81995278,  0.83901287,  0.85066149,  0.85244978,\n",
       "         0.73759464,  0.84994975]])"
      ]
     },
     "execution_count": 31,
     "metadata": {},
     "output_type": "execute_result"
    }
   ],
   "source": [
    "# data example\n",
    "layers = [9,3,1]\n",
    "parameters = initialize(layers)\n",
    "out, caches = forward_pass(X.T,parameters)\n",
    "out"
   ]
  },
  {
   "cell_type": "markdown",
   "metadata": {},
   "source": [
    "### Loss Function"
   ]
  },
  {
   "cell_type": "code",
   "execution_count": 32,
   "metadata": {},
   "outputs": [
    {
     "name": "stdout",
     "output_type": "stream",
     "text": [
      "predictions (rounded): [[1 1 1 1 1 1 1 1 1 1 1 1]] \n",
      "label: [[1 0 1 1 0 1 0 1 0 0 0 1]]\n",
      "loss: 0.171570621755\n"
     ]
    }
   ],
   "source": [
    "def loss(y_prediction, y_actual):\n",
    "    \"\"\"\n",
    "    NN loss function - use euclidean error\n",
    "    \"\"\"\n",
    "    \n",
    "    ### flatten inputs!!!\n",
    "    pred = y_prediction.flatten()\n",
    "    labels = y_actual.flatten()\n",
    "    \n",
    "    try:\n",
    "        m = y_actual.shape[0]\n",
    "    except:\n",
    "        m = 1\n",
    "\n",
    "    ### euclidean\n",
    "#     cost = np.abs(y_actual - y_prediction) # on a single dataset\n",
    "    diffs = labels - pred\n",
    "#     print(diffs) # troubleshooting shape\n",
    "    cost = np.linalg.norm(diffs) / m\n",
    "    \n",
    "    ### sigmoid binary cross entropy loss\n",
    "#     cost = - np.mean( y_actual * np.log(y_prediction) + (1-y_actual) * np.log(1-y_prediction) )\n",
    "    \n",
    "    cost = np.squeeze(cost)      \n",
    "    assert(cost.shape == ())\n",
    "    \n",
    "    return cost\n",
    "\n",
    "# example \n",
    "print(\"predictions (rounded): %s \\nlabel: %s\" % (np.round(out).astype(int), Y.T))\n",
    "# print(\"number of incorrect predictions:\", sum([ np.round(out) ]) )\n",
    "print(\"loss:\", loss(y_prediction=out,y_actual=Y))"
   ]
  },
  {
   "cell_type": "markdown",
   "metadata": {},
   "source": [
    "### Backwards Pass"
   ]
  },
  {
   "cell_type": "code",
   "execution_count": 33,
   "metadata": {
    "collapsed": true
   },
   "outputs": [],
   "source": [
    "def linear_backward(dZ, cache):\n",
    "    \"\"\"\n",
    "    Linear portion of backward propagation for a single layer\n",
    "\n",
    "    Arguments:\n",
    "    dZ -- Gradient of the cost with respect to the linear output (of current layer i)\n",
    "    cache -- tuple of values (A_prev, W, b) coming from the forward propagation in the current layer\n",
    "\n",
    "    Returns:\n",
    "    dA_prev -- Gradient of the cost with respect to the activation (of the previous layer i-1), same shape as A_prev\n",
    "    dW -- Gradient of the cost with respect to W, same shape as W\n",
    "    db -- Gradient of the cost with respect to b, same shape as b\n",
    "    \"\"\"\n",
    "    A_prev, W, b = cache\n",
    "    m = A_prev.shape[1]\n",
    "\n",
    "    dW = np.dot(dZ, A_prev.T) / m\n",
    "    db = np.zeros(shape=np.shape(b)) + (np.sum(dZ, axis=1,keepdims=True) / m) # to broadcast into the right shape\n",
    "    dA_prev = np.dot(W.T, dZ)\n",
    "    \n",
    "    assert (dA_prev.shape == A_prev.shape), \"shapes %r & %r\" % (dA_prev.shape, A_prev.shape)\n",
    "    assert (dW.shape == W.shape), \"shapes %r & %r\" % (dW.shape, W.shape)\n",
    "    assert (db.shape == b.shape), \"shapes %r & %r\" % (db.shape, b.shape)\n",
    "    \n",
    "    return dA_prev, dW, db"
   ]
  },
  {
   "cell_type": "code",
   "execution_count": 34,
   "metadata": {
    "code_folding": [
     45
    ]
   },
   "outputs": [
    {
     "data": {
      "text/plain": [
       "(array([[-0.15042419, -0.15262818, -0.16403253, -0.1449038 , -0.13909153,\n",
       "         -0.14003206, -0.166188  , -0.14859507, -0.13784311, -0.13619247,\n",
       "         -0.24220658, -0.13850007],\n",
       "        [-0.11595633, -0.1176553 , -0.12644649, -0.11170087, -0.10722041,\n",
       "         -0.10794543, -0.12810805, -0.11454633, -0.10625805, -0.10498563,\n",
       "         -0.18670791, -0.10676447],\n",
       "        [-0.02025229, -0.02054902, -0.02208444, -0.01950905, -0.01872652,\n",
       "         -0.01885315, -0.02237464, -0.02000603, -0.01855844, -0.01833621,\n",
       "         -0.03260937, -0.01864689]]),\n",
       " array([[-0.15201111, -0.14802709, -0.15645676]]),\n",
       " array([[-0.16798376]]))"
      ]
     },
     "execution_count": 34,
     "metadata": {},
     "output_type": "execute_result"
    }
   ],
   "source": [
    "\n",
    "def sigmoid_backward(dA, activation_cache):\n",
    "    \"\"\"\n",
    "    activation cache = [z] contains the output of the activation function\n",
    "    \"\"\"\n",
    "    Z = activation_cache\n",
    "    s = 1/(1+np.exp(-Z))\n",
    "    dZ = dA * s * (1-s)\n",
    "#     print(\"dZ shape:\", Z.shape)\n",
    "    assert (dZ.shape == Z.shape), \"shapes are %r and %r\" % (dZ.shape, Z.shape)\n",
    "    \n",
    "    return dZ\n",
    "    \n",
    "def relu_backward(dA, activation_cache):\n",
    "    return \"haven't implemented yet\"\n",
    "\n",
    "def linear_activation_backward(dA, cache, activation):\n",
    "    \"\"\"\n",
    "    Implement the backward propagation for the LINEAR->ACTIVATION layer.\n",
    "    \n",
    "    Arguments:\n",
    "    dA -- post-activation gradient for current layer i\n",
    "    cache -- tuple of values (linear_cache, activation_cache) we store for computing backward propagation efficiently\n",
    "    activation -- the activation to be used in this layer, stored as a text string: \"sigmoid\" or \"relu\"\n",
    "    \n",
    "    Returns:\n",
    "    dA_prev -- Gradient of the cost with respect to the activation (of the previous layer l-1), same shape as A_prev\n",
    "    dW -- Gradient of the cost with respect to W (current layer l), same shape as W\n",
    "    db -- Gradient of the cost with respect to b (current layer l), same shape as b\n",
    "    \"\"\"\n",
    "    linear_cache, activation_cache = cache\n",
    "    \n",
    "    if activation == \"relu\":\n",
    "        dZ = relu_backward(dA, activation_cache)\n",
    "        dA_prev, dW, db = linear_backward(dZ, linear_cache)\n",
    "        \n",
    "    elif activation == \"sigmoid\":\n",
    "        dZ = sigmoid_backward(dA, activation_cache)\n",
    "        dA_prev, dW, db = linear_backward(dZ, linear_cache)\n",
    "    \n",
    "    return dA_prev, dW, db\n",
    "\n",
    "#example - backprop from the last layer on single input vector\n",
    "A_last = out #last activation layer output\n",
    "label = 1 #corresponding label layer\n",
    "\n",
    "cache = caches[-1]\n",
    "linear_cache, activation_cache = cache\n",
    "\n",
    "# print(\"linear cache:\\n\", linear_cache, '\\n', \"activation cache:\\n\", activation_cache)\n",
    "dA_last = - (np.divide(label, A_last) - np.divide(1 - label, 1 - A_last)) # sigmoid cross entropy error\n",
    "dA_prev, dW, db = linear_activation_backward(dA=dA_last, cache=cache, activation=\"sigmoid\")\n",
    "\n",
    "dA_prev, dW, db"
   ]
  },
  {
   "cell_type": "code",
   "execution_count": 35,
   "metadata": {
    "collapsed": true
   },
   "outputs": [],
   "source": [
    "\n",
    "def backprop(AL, Y, caches):\n",
    "    \"\"\"\n",
    "    Implement the backward propagation for an L layer (LINEAR -> SIGMOID) group\n",
    "    \n",
    "    Arguments:\n",
    "    AL -- probability vector, output of the forward propagation (L_model_forward())\n",
    "    Y -- true \"label\" vector (containing 0 if non-cat, 1 if cat)\n",
    "    caches -- list of caches containing:\n",
    "                every cache of linear_activation_forward() with \"relu\" (it's caches[l], for l in range(L-1) i.e l = 0...L-2)\n",
    "                the cache of linear_activation_forward() with \"sigmoid\" (it's caches[L-1])\n",
    "    \n",
    "    Returns:\n",
    "    grads -- A dictionary with the gradients\n",
    "             grads[\"dA\" + str(l)] = ... \n",
    "             grads[\"dW\" + str(l)] = ...\n",
    "             grads[\"db\" + str(l)] = ... \n",
    "    \"\"\"\n",
    "    grads = {}\n",
    "    L = len(caches) # the number of layers = 2 –– hidden and output\n",
    "    m = AL.shape[1]\n",
    "    Y = Y.reshape(AL.shape) # after this line, Y is the same shape as AL\n",
    "    \n",
    "    # Initializing the backpropagation\n",
    "    dAL = - (np.divide(Y, AL) - np.divide(1 - Y, 1 - AL)) # binary cross entropy loss function\n",
    "    \n",
    "    # Lth layer (SIGMOID -> LINEAR) gradients. Inputs: \"dAL, current_cache\". Outputs: \"grads[\"dAL-1\"], grads[\"dWL\"], grads[\"dbL\"]\n",
    "    current_cache = caches[L-1]\n",
    "    grads[\"dA\" + str(L-1)], grads[\"dW\" + str(L)], grads[\"db\" + str(L)] = linear_activation_backward(dAL, current_cache, activation=\"sigmoid\")\n",
    "    \n",
    "    for i in reversed(range(L-1)):\n",
    "        current_cache = caches[i]\n",
    "        dA_prev_temp, dW_temp, db_temp = linear_activation_backward(grads[\"dA\" + str(i+1)], \n",
    "                                                                    current_cache, \"sigmoid\")\n",
    "        grads[\"dA\" + str(i)] = dA_prev_temp\n",
    "        grads[\"dW\" + str(i+1)] = dW_temp\n",
    "        grads[\"db\" + str(i+1)] = db_temp\n",
    "\n",
    "    return grads"
   ]
  },
  {
   "cell_type": "code",
   "execution_count": 36,
   "metadata": {
    "collapsed": true
   },
   "outputs": [],
   "source": [
    "# example\n",
    "layers = [9,3,1]\n",
    "parameters = initialize(layers)\n",
    "\n",
    "_input = X[0:1].T # np.array([ [i] for i in range(layers[0])])\n",
    "_out, caches = forward_pass(_input,parameters)\n",
    "\n",
    "# set label for backprop\n",
    "label = Y[0] # np.array([1])\n",
    "\n",
    "grads = backprop(_out,label,caches)"
   ]
  },
  {
   "cell_type": "markdown",
   "metadata": {},
   "source": [
    "### Updating Weights (Stoch. Grad. Desc.)"
   ]
  },
  {
   "cell_type": "code",
   "execution_count": 37,
   "metadata": {},
   "outputs": [
    {
     "name": "stdout",
     "output_type": "stream",
     "text": [
      "My 'W' and 'dW' indexing are off by one (0 indexing vs 1 indexing). \n",
      "Check that the corresponding shapes match:\n",
      "\n",
      "W: (3, 9) (3, 9)\n",
      "b: (3, 1) (3, 1)\n",
      "W: (1, 3) (1, 3)\n",
      "b: (1, 1) (1, 1)\n"
     ]
    }
   ],
   "source": [
    "print(\"My 'W' and 'dW' indexing are off by one (0 indexing vs 1 indexing). \\nCheck that the corresponding shapes match:\\n\")\n",
    "for i in range(len(layers)-1):\n",
    "    print('W:', grads[\"dW\"+str(i+1)].shape , parameters[\"W\"+str(i)].shape)\n",
    "    print('b:', grads[\"db\"+str(i+1)].shape , parameters[\"b\"+str(i)].shape)"
   ]
  },
  {
   "cell_type": "code",
   "execution_count": 38,
   "metadata": {
    "collapsed": true
   },
   "outputs": [],
   "source": [
    "def update_parameters(parameters, grads, learning_rate):\n",
    "    \"\"\"\n",
    "    Update parameters using gradient descent\n",
    "    \n",
    "    Arguments:\n",
    "    parameters -- python dictionary containing your parameters \n",
    "    grads -- python dictionary containing your gradients, output of L_model_backward\n",
    "    \n",
    "    Returns:\n",
    "    parameters -- python dictionary containing your updated parameters \n",
    "                  parameters[\"W\" + str(l)] = ... \n",
    "                  parameters[\"b\" + str(l)] = ...\n",
    "    \n",
    "    my numbering convention for params is 0 -> but for grads is 1 -> .. oops?\n",
    "    \"\"\"\n",
    "    L = len(parameters)//2 \n",
    "\n",
    "    for i in range(L):\n",
    "        parameters[\"W\" + str(i)] = parameters[\"W\" + str(i)] - learning_rate * grads[\"dW\" + str(i+1)]\n",
    "        parameters[\"b\" + str(i)] = parameters[\"b\" + str(i)] - learning_rate * grads[\"db\" + str(i+1)]\n",
    "    \n",
    "    return parameters"
   ]
  },
  {
   "cell_type": "code",
   "execution_count": 39,
   "metadata": {},
   "outputs": [
    {
     "name": "stdout",
     "output_type": "stream",
     "text": [
      "{'W0': array([[ 0.07197428,  0.96727633,  0.56810046,  0.20329323,  0.25232574,\n",
      "         0.74382585,  0.19542948,  0.58135893,  0.97001999],\n",
      "       [ 0.8468288 ,  0.23984776,  0.49376971,  0.61995572,  0.8289809 ,\n",
      "         0.15679139,  0.0185762 ,  0.07002214,  0.48634511],\n",
      "       [ 0.60632946,  0.56885144,  0.31736241,  0.98861615,  0.57974522,\n",
      "         0.38014117,  0.55094822,  0.74533443,  0.66923289]]), 'b0': array([[ 0.],\n",
      "       [ 0.],\n",
      "       [ 0.]]), 'W1': array([[ 0.26491956,  0.06633483,  0.3700842 ]]), 'b1': array([[ 0.]])}\n",
      "\n",
      "output: 0.648615725171\n",
      "loss: 0.351384274829 \n",
      "\n",
      "{'W0': array([[ 0.07382526,  0.96727633,  0.56810046,  0.20514421,  0.2560277 ,\n",
      "         0.74382585,  0.19728046,  0.58135893,  0.97001999],\n",
      "       [ 0.84692121,  0.23984776,  0.49376971,  0.62004813,  0.82916572,\n",
      "         0.15679139,  0.01866861,  0.07002214,  0.48634511],\n",
      "       [ 0.60677336,  0.56885144,  0.31736241,  0.98906005,  0.58063301,\n",
      "         0.38014117,  0.55139211,  0.74533443,  0.66923289]]), 'b0': array([[  1.85097931e-03],\n",
      "       [  9.24084722e-05],\n",
      "       [  4.43893709e-04]]), 'W1': array([[ 0.29043653,  0.10002011,  0.40397918]]), 'b1': array([[ 0.03513843]])}\n"
     ]
    }
   ],
   "source": [
    "# example feeding a single input vector x through the network and then backpropogating it\n",
    "layers = [9,3,1]\n",
    "parameters = initialize(layers)\n",
    "print(parameters)\n",
    "_input = X[0:1].T\n",
    "_out, caches = forward_pass(_input,parameters)\n",
    "\n",
    "print(\"\\noutput: %s\" % _out[0][0])\n",
    "# set label for backprop\n",
    "label = Y[0]\n",
    "print(\"loss: %s \\n\" % loss(_out, label))\n",
    "\n",
    "grads = backprop(_out,label,caches)\n",
    "\n",
    "update_parameters(parameters, grads, learning_rate = 0.1)\n",
    "print(parameters)\n"
   ]
  },
  {
   "cell_type": "code",
   "execution_count": 40,
   "metadata": {},
   "outputs": [
    {
     "name": "stdout",
     "output_type": "stream",
     "text": [
      "\n",
      "output: array([[ 0.90398036,  0.90657905,  0.87902287,  0.91236586,  0.91514117]])\n"
     ]
    },
    {
     "data": {
      "text/plain": [
       "{'W0': array([[ 0.62896953,  0.21036535,  0.75256884,  0.06506544,  0.26021889,\n",
       "          0.80478237,  0.19338618,  0.63914369,  0.52259916],\n",
       "        [ 0.92397015,  0.26373199,  0.06594266,  0.733798  ,  0.77211355,\n",
       "          0.90785721,  0.93193983,  0.01401643,  0.23253022],\n",
       "        [ 0.61632378,  0.94917513,  0.95017483,  0.55584743,  0.91567648,\n",
       "          0.64158527,  0.39004278,  0.48581865,  0.60325107]]),\n",
       " 'W1': array([[ 0.52019287,  0.89615595,  0.88871485]]),\n",
       " 'b0': array([[-0.00055664],\n",
       "        [-0.0004026 ],\n",
       "        [-0.00029577]]),\n",
       " 'b1': array([[-0.03034179]])}"
      ]
     },
     "execution_count": 40,
     "metadata": {},
     "output_type": "execute_result"
    }
   ],
   "source": [
    "# example feeding the entire input dataset through at once\n",
    "layers = [9,3,1]\n",
    "parameters = initialize(layers)\n",
    "_input = X[0:5].T\n",
    "_out, caches = forward_pass(_input,parameters)\n",
    "\n",
    "print(\"\\noutput: %r\" % _out)\n",
    "# set label for backprop\n",
    "label = Y[0:5]\n",
    "# print(\"loss: %s \\n\" % loss(_out, label))\n",
    "\n",
    "grads = backprop(_out,label,caches)\n",
    "\n",
    "update_parameters(parameters, grads, learning_rate = 0.1)\n",
    "\n"
   ]
  },
  {
   "cell_type": "markdown",
   "metadata": {},
   "source": [
    "### Performance Heuristic Functions\n",
    "\n",
    "methods for uzing the NN, getting accuracy, measuring convergence of the weights and gradients, etc."
   ]
  },
  {
   "cell_type": "code",
   "execution_count": 41,
   "metadata": {},
   "outputs": [
    {
     "name": "stdout",
     "output_type": "stream",
     "text": [
      "mean weights norm: 2.321822187369782, 0.015544862877474083\n",
      "mean gradient norm: 0.2775188855768676, 0.15544862877474083\n"
     ]
    }
   ],
   "source": [
    "# for computing convergence of weights\n",
    "def weight_sum(parameters, distinguish=True, param_names = [\"W\",\"b\"]):\n",
    "    \"\"\"\n",
    "    computes sum of Froeb norm of weights associated with the neural net\n",
    "    if distinguish: treats weights W and biases b separately\n",
    "    \"\"\"\n",
    "    W = param_names[0]\n",
    "    b = param_names[1]\n",
    "    \n",
    "    if distinguish:\n",
    "        weights = [ parameters[key] for key in parameters.keys() if key[0:len(W)] == W ]\n",
    "        biases = [ parameters[key] for key in parameters.keys() if key[0:len(b)] == b ]\n",
    "        \n",
    "        return np.mean([ np.linalg.norm(x) for x in weights ]) , np.mean([ np.linalg.norm(x) for x in biases ])\n",
    "    else:\n",
    "        return np.mean([ np.linalg.norm( parameters[key]) for key in parameters.keys() ])\n",
    "    \n",
    "print(\"mean weights norm: %r, %r\" % weight_sum(parameters))\n",
    "print(\"mean gradient norm: %r, %r\" % weight_sum(grads, param_names = [\"dW\", \"db\"]))\n"
   ]
  },
  {
   "cell_type": "code",
   "execution_count": 42,
   "metadata": {
    "collapsed": true
   },
   "outputs": [],
   "source": [
    "# prediction function to make life easier\n",
    "\n",
    "def predict(X,parameters):\n",
    "    \"\"\"\n",
    "    computes a single forward pass (no backprop) of the NN model on the input X\n",
    "    transposes input automatically\n",
    "    \"\"\"\n",
    "    prediction, _ = forward_pass(X.T,parameters)\n",
    "    return prediction\n",
    "\n",
    "def accuracy(X,Y,parameters):\n",
    "    \"\"\"\n",
    "    computes accuracy (categorical)\n",
    "    \"\"\"\n",
    "    prediction = predict(X.T,parameters)\n",
    "    difference = np.abs(Y - prediction.T)\n",
    "    return len([x for x in difference if x < 0.2])/len(Y)"
   ]
  },
  {
   "cell_type": "code",
   "execution_count": 43,
   "metadata": {},
   "outputs": [
    {
     "name": "stdout",
     "output_type": "stream",
     "text": [
      "Predictions: [1 0 0 1 1 0] \n",
      "Labels: [1 0 1 0 0 0]\n"
     ]
    },
    {
     "data": {
      "text/plain": [
       "0.5"
      ]
     },
     "execution_count": 43,
     "metadata": {},
     "output_type": "execute_result"
    }
   ],
   "source": [
    "# accuracy example\n",
    "predicts = np.array([1,0,0,1,1,0])\n",
    "actuals = np.array([1,0,1,0,0,0])\n",
    "print(\"Predictions:\", predicts, \"\\nLabels:\", actuals)\n",
    "# compute accuracy from scratch\n",
    "differences = np.abs(actuals - predicts)\n",
    "# print(differences)\n",
    "successes = [x for x in differences if x < 0.2]\n",
    "# print(successes)\n",
    "len([x for x in differences if x < 0.2])/len(actuals)\n"
   ]
  },
  {
   "cell_type": "markdown",
   "metadata": {},
   "source": [
    "### Complete NN Training Procedure"
   ]
  },
  {
   "cell_type": "code",
   "execution_count": 44,
   "metadata": {
    "collapsed": true
   },
   "outputs": [],
   "source": [
    "def train_nn(X, Y, layers, epochs=10, learning_rate=0.05, update_rate = .1):\n",
    "    \"\"\"\n",
    "    trains a simple fully connected neural net with sigmoid activation\n",
    "    X = input shape should be (num obs, num features).T (?)\n",
    "    Y = labels shape should be (num obs, 1)\n",
    "    epochs = number of full forward + backward propogations to carry out\n",
    "    learning rate = learning rate for SGD parameter updates\n",
    "    update_rate = how often to get update messages (on epoch, cost, weights, accuracy)\n",
    "        default = 10% of the time during a run\n",
    "    \"\"\"\n",
    "    parameters = initialize(layers)\n",
    "    costs = []\n",
    "    acc = []\n",
    "    \n",
    "    initial_weight_score = weight_sum(parameters)\n",
    "    weight_scores = [initial_weight_score] # for plotting convergence of weights\n",
    "    grad_scores = []\n",
    "\n",
    "    for i in range(epochs):\n",
    "        prediction, caches = forward_pass(X,parameters)\n",
    "        costs.append(loss(prediction, Y))\n",
    "        \n",
    "        grads = backprop(prediction,Y,caches)\n",
    "        update_parameters(parameters, grads, learning_rate=learning_rate)\n",
    "        weight_scores.append(weight_sum(parameters))\n",
    "        grad_scores.append(weight_sum(grads,param_names=[\"dW\", \"db\"]))\n",
    "        \n",
    "        accuracy_i = accuracy(X,Y,parameters)\n",
    "        acc.append(accuracy_i)\n",
    "        \n",
    "        if i % int(epochs*update_rate) == 0:\n",
    "            print(\"epoch %s of %s, cost: %s, weights: %r\" % (' '*(len(str(epochs)) - len(str(i)))+str(i), epochs, loss(prediction, Y), weight_sum(parameters)))\n",
    "            print(\"accuracy at epoch %s: %s \\n\" % (str(i)+'/'+str(epochs), accuracy_i))\n",
    "            \n",
    "    return parameters, costs, weight_scores, grad_scores, acc\n"
   ]
  },
  {
   "cell_type": "markdown",
   "metadata": {},
   "source": [
    "# §1 Constructing NN with [9,3,1] Structure for the Restaurant Domain Prediction"
   ]
  },
  {
   "cell_type": "code",
   "execution_count": 45,
   "metadata": {},
   "outputs": [
    {
     "name": "stdout",
     "output_type": "stream",
     "text": [
      "epoch    0 of 1000, cost: 0.175277451795, weights: (1.8472241912504521, 0.37300811994675009)\n",
      "accuracy at epoch 0/1000: 0.0 \n",
      "\n",
      "epoch  100 of 1000, cost: 0.134455772475, weights: (3.3214566207264804, 1.3977030968766091)\n",
      "accuracy at epoch 100/1000: 0.0 \n",
      "\n",
      "epoch  200 of 1000, cost: 0.0931641077641, weights: (6.1014127355025423, 2.2277681120538242)\n",
      "accuracy at epoch 200/1000: 0.5 \n",
      "\n",
      "epoch  300 of 1000, cost: 0.0756494587698, weights: (8.1594138846631239, 2.4801309761297112)\n",
      "accuracy at epoch 300/1000: 0.5833333333333334 \n",
      "\n",
      "epoch  400 of 1000, cost: 0.0749322950712, weights: (8.9768090657141695, 2.5197227290660664)\n",
      "accuracy at epoch 400/1000: 0.75 \n",
      "\n",
      "epoch  500 of 1000, cost: 0.0253007551314, weights: (10.438414564452323, 3.4831882085150987)\n",
      "accuracy at epoch 500/1000: 1.0 \n",
      "\n",
      "epoch  600 of 1000, cost: 0.00683626296418, weights: (11.630631150844865, 3.9582114398389634)\n",
      "accuracy at epoch 600/1000: 1.0 \n",
      "\n",
      "epoch  700 of 1000, cost: 0.00455824770221, weights: (12.339125266831683, 4.1054633133330389)\n",
      "accuracy at epoch 700/1000: 1.0 \n",
      "\n",
      "epoch  800 of 1000, cost: 0.00346128538625, weights: (12.843527217909736, 4.2349572671763527)\n",
      "accuracy at epoch 800/1000: 1.0 \n",
      "\n",
      "epoch  900 of 1000, cost: 0.00279687358624, weights: (13.235106925554534, 4.3472159419558665)\n",
      "accuracy at epoch 900/1000: 1.0 \n",
      "\n",
      "\n",
      "final accuracy: 1.0\n"
     ]
    }
   ],
   "source": [
    "# train network\n",
    "np.random.seed(0)\n",
    "\n",
    "layers = [9,3,1]\n",
    "parameters, costs, weight_scores, grad_scores, train_accuracy = train_nn(X=X.T, Y=Y, \n",
    "                                                                         layers=layers, \n",
    "                                                                         epochs=1000, \n",
    "                                                                         learning_rate=2)\n",
    "# costs , weight_scores\n",
    "print('\\nfinal accuracy: %s' % accuracy(X.T,Y,parameters))"
   ]
  },
  {
   "cell_type": "code",
   "execution_count": 46,
   "metadata": {},
   "outputs": [
    {
     "name": "stdout",
     "output_type": "stream",
     "text": [
      "accuracy: 1.0, \n",
      "i.e. 12.0 of 12 observations correctly predicted.\n"
     ]
    }
   ],
   "source": [
    "print(\"accuracy: %s, \\ni.e. %s of %s observations correctly predicted.\" % (accuracy(X.T,Y,parameters), len(Y) * accuracy(X.T,Y,parameters), len(Y)))\n"
   ]
  },
  {
   "cell_type": "markdown",
   "metadata": {},
   "source": [
    "### Visualizing the NN Training"
   ]
  },
  {
   "cell_type": "code",
   "execution_count": 47,
   "metadata": {},
   "outputs": [
    {
     "data": {
      "image/png": "[encoded data removed]",
      "text/plain": [
       "<matplotlib.figure.Figure at 0x116a84dd8>"
      ]
     },
     "metadata": {},
     "output_type": "display_data"
    }
   ],
   "source": [
    "# visualize\n",
    "import matplotlib.pyplot as plt\n",
    "plt.rcParams['figure.figsize'] = (8.0, 6.0) # set default size of plots - default is [6.0, 4.0]\n",
    "\n",
    "\n",
    "def visualize(parameters, costs, weight_scores, grad_scores, train_accuracy):\n",
    "    \"\"\"\n",
    "    2x2 matrix of NN diagnostics –– cost, accuracy, and weights, gradients\n",
    "    \n",
    "                _________________________________________    \n",
    "               |                    |                    |\n",
    "               |                    |                    |\n",
    "               |      COST          |          WEIGHTS   |\n",
    "               |                    |                    |\n",
    "               |____________________|____________________|\n",
    "               |                    |                    |\n",
    "               |                    |                    |\n",
    "               |      ACCURACY      |          GRADS     |\n",
    "               |                    |                    |\n",
    "               |____________________|____________________|\n",
    "                                    \n",
    "    \n",
    "    \"\"\"\n",
    "    \n",
    "#     num_rows = 2\n",
    "#     num_cols = 2\n",
    "    \n",
    "    size = 1.2\n",
    "    \n",
    "    plt.subplot(221)\n",
    "    # plt.scatter(x=range(len(costs)),y=[1-x for x in costs],s=1,c='blue')\n",
    "    plt.scatter(x=range(len(costs)),y=costs,s=size,c='blue')\n",
    "    plt.title(\"Cost\")\n",
    "#     plt.show()\n",
    "\n",
    "    plt.subplot(223)\n",
    "    plt.scatter(x=range(len(train_accuracy)),y=train_accuracy,s=size,c='orange')\n",
    "    plt.title(\"Accuracy\")\n",
    "#     plt.show()\n",
    "    \n",
    "    plt.subplot(224)\n",
    "    weights, biases = np.array(weight_scores).T\n",
    "    weight_plot = plt.scatter(x=range(len(weights)),y=weights,s=size,c='green',label = '||W||')\n",
    "    bias_plot = plt.scatter(x=range(len(biases)),y=biases,s=size,c='red',label='||b||')\n",
    "    plt.title(\"Parameter Norm Convergence (≈ Sub-Linear)\")\n",
    "    plt.legend()\n",
    "#     plt.show()\n",
    "\n",
    "    plt.subplot(222)\n",
    "    weights, biases = np.array(grad_scores).T\n",
    "    weight_plot = plt.scatter(x=range(len(weights)),y=weights,s=size,c='green',label = '||dW||')\n",
    "    bias_plot = plt.scatter(x=range(len(biases)),y=biases,s=size,c='red',label='||db||')\n",
    "    plt.title(\"Gradient Norm Convergence\")\n",
    "    plt.legend()\n",
    "#     plt.show()\n",
    "\n",
    "    plt.subplots_adjust(top=2.5, bottom=0.58, \n",
    "                        left=.10, right=2.5, \n",
    "                        hspace=0.15, wspace=0.25)\n",
    "    \n",
    "    plt.show()\n",
    "\n",
    "\n",
    "\n",
    "visualize(parameters, costs, weight_scores, grad_scores, train_accuracy)"
   ]
  },
  {
   "cell_type": "markdown",
   "metadata": {},
   "source": [
    "### Report Weights\n",
    "\n",
    "Weights $\\mathbf{W}$ and biases $\\mathbf{b}$ associated with the trained NN model:"
   ]
  },
  {
   "cell_type": "code",
   "execution_count": 53,
   "metadata": {},
   "outputs": [
    {
     "data": {
      "text/plain": [
       "{'W0': array([[ 0.72735356,  0.61697924,  0.74672344,  2.72420446,  1.4800029 ,\n",
       "         -0.61418652,  1.27680695, -0.44681846,  0.695036  ],\n",
       "        [ 0.52037497,  1.22383435,  0.68570749,  5.2059696 ,  2.43301263,\n",
       "         -1.83707426,  1.5246772 , -0.75560607,  0.64597477],\n",
       "        [-1.60888083, -4.53493929, -2.3723166 , -3.13990341,  3.59921858,\n",
       "         -2.44006964, -0.7289598 ,  2.90893943,  5.55738472]]),\n",
       " 'W1': array([[  2.6064807 ,   7.93198795, -12.13348709]]),\n",
       " 'b0': array([[-1.27960437],\n",
       "        [-1.79656621],\n",
       "        [-3.93031782]]),\n",
       " 'b1': array([[-4.38154803]])}"
      ]
     },
     "execution_count": 53,
     "metadata": {},
     "output_type": "execute_result"
    }
   ],
   "source": [
    "parameters"
   ]
  },
  {
   "cell_type": "markdown",
   "metadata": {},
   "source": [
    "We can see the network seems to be growing well, but hasn't yet achieved 100% accuracy. We can try training for more epochs, or adjusting the learning rate. Below I run the same network for a longer time, achieving a desired high accuracy: \n",
    "\n",
    "Another point: we could change the random initialization of weights - even setting the random seed some other values can lead to an accuracy of 1.0 within the same training regime with epochs ≤ 1000 [e.g., seed(10)].\n",
    "\n",
    "**N.B. Adjusting bias initialization has rendered this moot, as we can now easily achieve 100% accuracy within 600 epochs.**"
   ]
  },
  {
   "cell_type": "code",
   "execution_count": 24,
   "metadata": {},
   "outputs": [
    {
     "name": "stdout",
     "output_type": "stream",
     "text": [
      "epoch    0 of 7000, cost: 0.158417626247, weights: (1.6850350829501373, 0.24910657703641598)\n",
      "accuracy at epoch 0/7000: 0.0 \n",
      "\n",
      "epoch 3500 of 7000, cost: 0.000414184992098, weights: (16.144955681959427, 2.8310792576409263)\n",
      "accuracy at epoch 3500/7000: 1.0 \n",
      "\n",
      "\n",
      "Final Accuracy: 1.0\n"
     ]
    },
    {
     "data": {
      "image/png": "[encoded data removed]",
      "text/plain": [
       "<matplotlib.figure.Figure at 0x10a3cc978>"
      ]
     },
     "metadata": {},
     "output_type": "display_data"
    }
   ],
   "source": [
    "np.random.seed(1)\n",
    "\n",
    "layers = [9,3,1]\n",
    "parameters, costs, weight_scores, grad_scores, train_accuracy = train_nn(X=X.T, Y=Y, \n",
    "                                                                         layers=layers, \n",
    "                                                                         epochs=7000, \n",
    "                                                                         learning_rate=2,\n",
    "                                                                         update_rate=.5)\n",
    "print('\\nFinal Accuracy: %s' % train_accuracy[-1])\n",
    "visualize(parameters, costs, weight_scores, grad_scores, train_accuracy)"
   ]
  },
  {
   "cell_type": "markdown",
   "metadata": {},
   "source": [
    "# §2 Toy Dataset\n",
    "\n",
    "I generate toy dataset (continuous) and labels to test the network on. This is still incomplete."
   ]
  },
  {
   "cell_type": "code",
   "execution_count": 592,
   "metadata": {},
   "outputs": [
    {
     "name": "stdout",
     "output_type": "stream",
     "text": [
      "X_train shape: (1000, 20) \n",
      "number of training examples: 1000, number of features: 20\n",
      "\n",
      "Y_train shape: (1000, 1) \n",
      "number of training labels: 1000\n",
      "\n",
      "first 25 labels: [[0 1 1 1 1 1 1 0 1 0 0 0 1 1 0 0 0 1 0 0 1 0 0 0 1]]\n",
      "proportion of '0' labels: [ 0.577]\n",
      "proportion of '1' labels: [ 0.423]\n"
     ]
    }
   ],
   "source": [
    "# test dataset\n",
    "num_observations , num_features = train_shape =  (1000, 20)\n",
    "X_train = np.random.normal(size=train_shape,loc=range(20),scale=1)\n",
    "\n",
    "# create labels\n",
    "Y_train = np.array([i for i in range(num_observations)]).T\n",
    "# print(X_train[0] , \"\\n\", Y_train[0])\n",
    "\n",
    "for i in range(num_observations):\n",
    "    x = X_train[i]\n",
    "    temp = sum( [(x[j] - j) > 0 for j in range(num_features)] )\n",
    "    if temp > num_features/2: \n",
    "        Y_train[i] = 1\n",
    "    else:\n",
    "        Y_train[i] = 0\n",
    "        \n",
    "Y_train = np.reshape(a=Y_train, newshape=(Y_train.shape[0],1))\n",
    "\n",
    "print(\"X_train shape:\", X_train.shape, \"\\nnumber of training examples: %s, number of features: %s\\n\" % X_train.shape)\n",
    "print(\"Y_train shape:\", Y_train.shape, \"\\nnumber of training labels: %s\\n\" % Y_train.shape[0])\n",
    "\n",
    "\n",
    "print(\"first 25 labels:\", Y_train[0:25].T)\n",
    "\n",
    "print(\"proportion of '0' labels: %s\" % (1-sum(Y_train)/len(Y_train)))\n",
    "print(\"proportion of '1' labels: %s\" % (sum(Y_train)/len(Y_train)))"
   ]
  },
  {
   "cell_type": "code",
   "execution_count": 628,
   "metadata": {},
   "outputs": [
    {
     "name": "stdout",
     "output_type": "stream",
     "text": [
      "epoch    0 of 1000, cost: 0.0232273108493, weights: (3.1347815982239826, 0.90182130534538418)\n",
      "accuracy at epoch 0/1000: 0.577 \n",
      "\n",
      "epoch  200 of 1000, cost: 0.0172833328824, weights: (3.1252002883393506, 0.8956943931997785)\n",
      "accuracy at epoch 200/1000: 0.577 \n",
      "\n",
      "epoch  400 of 1000, cost: 0.0172833328824, weights: (3.1252002883393994, 0.8956943931996203)\n",
      "accuracy at epoch 400/1000: 0.577 \n",
      "\n",
      "epoch  600 of 1000, cost: 0.0172833328824, weights: (3.1252002883394479, 0.89569439319946209)\n",
      "accuracy at epoch 600/1000: 0.577 \n",
      "\n",
      "epoch  800 of 1000, cost: 0.0172833328824, weights: (3.1252002883394967, 0.895694393199304)\n",
      "accuracy at epoch 800/1000: 0.577 \n",
      "\n"
     ]
    }
   ],
   "source": [
    "# train network\n",
    "np.random.seed(0)\n",
    "\n",
    "layers = [num_features,5,1]\n",
    "parameters, costs, weight_scores, grad_scores, train_accuracy = train_nn(X=X_train.T, Y=Y_train, \n",
    "                                                                         layers=layers, \n",
    "                                                                         epochs=1000, \n",
    "                                                                         learning_rate=1.5, \n",
    "                                                                         update_rate=.2)"
   ]
  },
  {
   "cell_type": "code",
   "execution_count": 629,
   "metadata": {
    "collapsed": true
   },
   "outputs": [],
   "source": [
    "# print('\\nfinal accuracy: %s' % accuracy(X_train.T,Y_train,parameters))"
   ]
  },
  {
   "cell_type": "code",
   "execution_count": 630,
   "metadata": {
    "collapsed": true
   },
   "outputs": [],
   "source": [
    "# visualize(parameters, costs, weight_scores, grad_scores, train_accuracy)"
   ]
  },
  {
   "cell_type": "code",
   "execution_count": null,
   "metadata": {
    "collapsed": true
   },
   "outputs": [],
   "source": []
  }
 ],
 "metadata": {
  "kernelspec": {
   "display_name": "Python 3",
   "language": "python",
   "name": "python3"
  },
  "language_info": {
   "codemirror_mode": {
    "name": "ipython",
    "version": 3
   },
   "file_extension": ".py",
   "mimetype": "text/x-python",
   "name": "python",
   "nbconvert_exporter": "python",
   "pygments_lexer": "ipython3",
   "version": "3.6.3"
  }
 },
 "nbformat": 4,
 "nbformat_minor": 2
}
